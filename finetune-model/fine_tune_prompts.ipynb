{
 "cells": [
  {
   "cell_type": "code",
   "execution_count": 9,
   "metadata": {},
   "outputs": [
    {
     "name": "stdout",
     "output_type": "stream",
     "text": [
      "Requirement already satisfied: pandas in /Library/Frameworks/Python.framework/Versions/3.13/lib/python3.13/site-packages (2.2.3)\n",
      "Requirement already satisfied: numpy>=1.26.0 in /Library/Frameworks/Python.framework/Versions/3.13/lib/python3.13/site-packages (from pandas) (2.1.3)\n",
      "Requirement already satisfied: python-dateutil>=2.8.2 in /Users/admin/Library/Python/3.13/lib/python/site-packages (from pandas) (2.9.0.post0)\n",
      "Requirement already satisfied: pytz>=2020.1 in /Library/Frameworks/Python.framework/Versions/3.13/lib/python3.13/site-packages (from pandas) (2024.2)\n",
      "Requirement already satisfied: tzdata>=2022.7 in /Library/Frameworks/Python.framework/Versions/3.13/lib/python3.13/site-packages (from pandas) (2024.2)\n",
      "Requirement already satisfied: six>=1.5 in /Users/admin/Library/Python/3.13/lib/python/site-packages (from python-dateutil>=2.8.2->pandas) (1.16.0)\n",
      "\n",
      "\u001b[1m[\u001b[0m\u001b[34;49mnotice\u001b[0m\u001b[1;39;49m]\u001b[0m\u001b[39;49m A new release of pip is available: \u001b[0m\u001b[31;49m24.2\u001b[0m\u001b[39;49m -> \u001b[0m\u001b[32;49m24.3.1\u001b[0m\n",
      "\u001b[1m[\u001b[0m\u001b[34;49mnotice\u001b[0m\u001b[1;39;49m]\u001b[0m\u001b[39;49m To update, run: \u001b[0m\u001b[32;49mpython3 -m pip install --upgrade pip\u001b[0m\n",
      "Note: you may need to restart the kernel to use updated packages.\n"
     ]
    }
   ],
   "source": [
    "%pip install pandas"
   ]
  },
  {
   "cell_type": "code",
   "execution_count": 10,
   "metadata": {},
   "outputs": [
    {
     "data": {
      "text/html": [
       "<div>\n",
       "<style scoped>\n",
       "    .dataframe tbody tr th:only-of-type {\n",
       "        vertical-align: middle;\n",
       "    }\n",
       "\n",
       "    .dataframe tbody tr th {\n",
       "        vertical-align: top;\n",
       "    }\n",
       "\n",
       "    .dataframe thead th {\n",
       "        text-align: right;\n",
       "    }\n",
       "</style>\n",
       "<table border=\"1\" class=\"dataframe\">\n",
       "  <thead>\n",
       "    <tr style=\"text-align: right;\">\n",
       "      <th></th>\n",
       "      <th>input:</th>\n",
       "      <th>output:</th>\n",
       "    </tr>\n",
       "  </thead>\n",
       "  <tbody>\n",
       "    <tr>\n",
       "      <th>0</th>\n",
       "      <td>Công chứng hợp đồng vay tài sản</td>\n",
       "      <td>Giấy tờ tùy thân: Chứng minh nhân dân (CMND) h...</td>\n",
       "    </tr>\n",
       "    <tr>\n",
       "      <th>1</th>\n",
       "      <td>Công chứng hợp đồng bảo lãnh</td>\n",
       "      <td>Giấy tờ tùy thân: CMND/CCCD hoặc Hộ chiếu của ...</td>\n",
       "    </tr>\n",
       "    <tr>\n",
       "      <th>2</th>\n",
       "      <td>Công chứng hợp đồng tín chấp</td>\n",
       "      <td>Giấy tờ tùy thân: CMND/CCCD hoặc Hộ chiếu của ...</td>\n",
       "    </tr>\n",
       "    <tr>\n",
       "      <th>3</th>\n",
       "      <td>Công chứng biên bản thỏa thuận xử lý nợ</td>\n",
       "      <td>Giấy tờ tùy thân: CMND/CCCD hoặc Hộ chiếu của ...</td>\n",
       "    </tr>\n",
       "    <tr>\n",
       "      <th>4</th>\n",
       "      <td>Công chứng lập di chúc</td>\n",
       "      <td>Giấy tờ tùy thân: CMND/CCCD hoặc Hộ chiếu của ...</td>\n",
       "    </tr>\n",
       "  </tbody>\n",
       "</table>\n",
       "</div>"
      ],
      "text/plain": [
       "                                    input:  \\\n",
       "0          Công chứng hợp đồng vay tài sản   \n",
       "1             Công chứng hợp đồng bảo lãnh   \n",
       "2             Công chứng hợp đồng tín chấp   \n",
       "3  Công chứng biên bản thỏa thuận xử lý nợ   \n",
       "4                   Công chứng lập di chúc   \n",
       "\n",
       "                                             output:  \n",
       "0  Giấy tờ tùy thân: Chứng minh nhân dân (CMND) h...  \n",
       "1  Giấy tờ tùy thân: CMND/CCCD hoặc Hộ chiếu của ...  \n",
       "2  Giấy tờ tùy thân: CMND/CCCD hoặc Hộ chiếu của ...  \n",
       "3  Giấy tờ tùy thân: CMND/CCCD hoặc Hộ chiếu của ...  \n",
       "4  Giấy tờ tùy thân: CMND/CCCD hoặc Hộ chiếu của ...  "
      ]
     },
     "execution_count": 10,
     "metadata": {},
     "output_type": "execute_result"
    }
   ],
   "source": [
    "import pandas as pd\n",
    "\n",
    "file_path = 'notarization_service_dataset.csv'\n",
    "data = pd.read_csv(file_path)\n",
    "\n",
    "data.head()\n"
   ]
  },
  {
   "cell_type": "code",
   "execution_count": 11,
   "metadata": {},
   "outputs": [
    {
     "name": "stdout",
     "output_type": "stream",
     "text": [
      "Successfully created fine-tune prompt and saved to 'fine_tune_prompts.txt'.\n"
     ]
    }
   ],
   "source": [
    "def create_fine_tune_prompt(csv_file_path, output_file_path):\n",
    "  try:\n",
    "    data = pd.read_csv(csv_file_path)\n",
    "    \n",
    "    if 'input:' not in data.columns or 'output:' not in data.columns:\n",
    "      raise ValueError(\"The CSV file must contain 'input:' and 'output:' columns.\")\n",
    "    \n",
    "    prompt_header = \"Please provide information based on the following examples:\\n\\n\"\n",
    "    fine_tune_prompt = prompt_header\n",
    "    \n",
    "    for index, row in data.iterrows():\n",
    "      input_text = str(row['input:']).strip()\n",
    "      output_text = str(row['output:']).strip()\n",
    "      \n",
    "      if not input_text or not output_text:\n",
    "        continue\n",
    "      \n",
    "      fine_tune_prompt += f\"input: {input_text}\\n\"\n",
    "      fine_tune_prompt += f\"output: {output_text}\\n\\n\"\n",
    "    \n",
    "    with open(output_file_path, 'w', encoding='utf-8') as file:\n",
    "      file.write(fine_tune_prompt)\n",
    "    \n",
    "    print(f\"Successfully created fine-tune prompt and saved to '{output_file_path}'.\")\n",
    "  \n",
    "  except FileNotFoundError:\n",
    "    print(f\"CSV file not found at path: {csv_file_path}\")\n",
    "  except Exception as e:\n",
    "    print(f\"An error occurred: {e}\")\n",
    "\n",
    "if __name__ == \"__main__\":\n",
    "  csv_path = 'notarization_service_dataset.csv' \n",
    "  \n",
    "  output_path = 'fine_tune_prompts.txt'  \n",
    "  \n",
    "  create_fine_tune_prompt(csv_path, output_path)\n"
   ]
  }
 ],
 "metadata": {
  "kernelspec": {
   "display_name": "Python 3",
   "language": "python",
   "name": "python3"
  },
  "language_info": {
   "codemirror_mode": {
    "name": "ipython",
    "version": 3
   },
   "file_extension": ".py",
   "mimetype": "text/x-python",
   "name": "python",
   "nbconvert_exporter": "python",
   "pygments_lexer": "ipython3",
   "version": "3.13.0"
  }
 },
 "nbformat": 4,
 "nbformat_minor": 2
}
